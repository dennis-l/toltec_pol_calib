{
 "cells": [
  {
   "cell_type": "code",
   "execution_count": 1,
   "metadata": {},
   "outputs": [],
   "source": [
    "import os\n",
    "import sys\n",
    "import numpy as np\n",
    "import pandas as pd\n",
    "import astropy.units as u\n",
    "import astropy.constants as const\n",
    "\n",
    "import matplotlib\n",
    "import matplotlib.pyplot as plt\n",
    "\n",
    "from cube.visualization import standard, brie\n",
    "plt.style.use(brie)"
   ]
  },
  {
   "cell_type": "code",
   "execution_count": 2,
   "metadata": {},
   "outputs": [],
   "source": [
    "amapola_data_file = '../../data/amapola.txt'\n",
    "amapola_data = pd.read_csv(amapola_data_file, delimiter='\\t')\n",
    "amapola_data['Date'] = pd.to_datetime(amapola_data['Date'])\n",
    "amapola_data['polpercentage'] = 100 * np.sqrt(amapola_data['Q']**2 + amapola_data['U']**2) / amapola_data['I']\n",
    "amapola_data['p'] =  amapola_data['P'] / amapola_data['I']\n",
    "amapola_data['polangle'] = np.arctan2(amapola_data['U'], amapola_data['Q'])\n",
    "amapola_data['rotatedpolangle'] = np.arctan2(amapola_data['U'], amapola_data['Q']) + (np.pi / 2)\n",
    "\n",
    "\n",
    "band_7 = amapola_data.loc[amapola_data['Freq'] == 233].copy()"
   ]
  },
  {
   "cell_type": "code",
   "execution_count": 3,
   "metadata": {},
   "outputs": [
    {
     "name": "stdout",
     "output_type": "stream",
     "text": [
      "[343.45 233.    91.45 103.5  154.95]\n",
      "[103.95 109.75 221.   343.25  91.45 103.5  343.45 233.   154.95]\n"
     ]
    }
   ],
   "source": [
    "# #band_7 eI, eQ, eU\n",
    "# band_7\n",
    "\n",
    "print(amapola_data.loc[amapola_data['Src'] == 'J1331+3030' + ' ']['Freq'].unique())\n",
    "print(amapola_data.loc[amapola_data['Src'] == 'J1229+0203' + ' ']['Freq'].unique())"
   ]
  },
  {
   "cell_type": "code",
   "execution_count": 4,
   "metadata": {},
   "outputs": [
    {
     "name": "stderr",
     "output_type": "stream",
     "text": [
      "No handles with labels found to put in legend.\n",
      "No handles with labels found to put in legend.\n",
      "No handles with labels found to put in legend.\n",
      "No handles with labels found to put in legend.\n",
      "No handles with labels found to put in legend.\n",
      "No handles with labels found to put in legend.\n"
     ]
    }
   ],
   "source": [
    "targets = ['J1331+3030', 'J1229+0203']\n",
    "names_3c = ['3C 286', '3C 273']\n",
    "for source, name_3c in zip(targets, names_3c):\n",
    "    this_source_only = band_7.loc[band_7['Src'] == source + ' '].copy()\n",
    "\n",
    "    plot_obj, sp_obj = plt.subplots(5, 1, figsize=(8, 10), sharex=True, dpi=200) # gridspec_kw={'hspace': 0, 'wspace': 0}\n",
    "    sp_obj = sp_obj.ravel()\n",
    "\n",
    "    sp_obj[0].set_title(f\"{source} ({name_3c})\")\n",
    "\n",
    "    # Total Intensity (Stokes I )\n",
    "    sp_obj[0].plot(this_source_only['Date'], this_source_only['I'], '.', color='firebrick')\n",
    "    sp_obj[0].errorbar(this_source_only['Date'], this_source_only['I'], this_source_only['eI'], ls='none', color='firebrick')\n",
    "    sp_obj[0].axhline(np.mean(this_source_only['I']),  ls='--', label=f\"mean ={np.mean(this_source_only['I']):0.3f}, std={np.std(this_source_only['I']):0.3f}\", color='firebrick')\n",
    "    sp_obj[0].axhspan(np.mean(this_source_only['I']) - np.std(this_source_only['I']), np.mean(this_source_only['I']) + np.std(this_source_only['I']), alpha=0.12, color='red', edgecolor=None)\n",
    "    sp_obj[0].set_ylabel(\"Stokes I [Jy]\")\n",
    "    sp_obj[0].legend(fancybox=False, loc='lower left', handletextpad=0.7, frameon=False)\n",
    "\n",
    "    # Stokes Q\n",
    "    sp_obj[1].plot(this_source_only['Date'], this_source_only['Q'], '.', color='firebrick')\n",
    "    sp_obj[1].errorbar(this_source_only['Date'], this_source_only['Q'], this_source_only['eQ'], ls='none', color='firebrick')\n",
    "    sp_obj[1].set_ylabel(\"Stokes Q [Jy]\")\n",
    "    sp_obj[1].legend(fancybox=False, loc='lower left', handletextpad=0.7, frameon=False)\n",
    "\n",
    "    # Stokes U\n",
    "    sp_obj[2].plot(this_source_only['Date'], this_source_only['U'], '.', color='firebrick')\n",
    "    sp_obj[2].errorbar(this_source_only['Date'], this_source_only['U'], this_source_only['eU'], ls='none', color='firebrick')\n",
    "    sp_obj[2].set_ylabel(\"Stokes U [Jy]\")\n",
    "    sp_obj[2].legend(fancybox=False, loc='lower left', handletextpad=0.7, frameon=False)\n",
    "\n",
    "    # Polarization Percentage\n",
    "    sp_obj[3].plot(this_source_only['Date'], this_source_only['polpercentage'], '.')\n",
    "    sp_obj[3].axhline(np.mean(this_source_only['polpercentage']),  ls='--', label=f\"mean = {np.mean(this_source_only['polpercentage']):0.3f}, std={np.std(this_source_only['polpercentage']):0.3f}\", color='darkorchid')\n",
    "    sp_obj[3].axhspan(np.mean(this_source_only['polpercentage']) - np.std(this_source_only['polpercentage']), np.mean(this_source_only['polpercentage']) + np.std(this_source_only['polpercentage']), alpha=0.12, color='red', edgecolor=None)\n",
    "    sp_obj[3].set_ylabel(\"Pol. Percentage [%]\")\n",
    "    sp_obj[3].legend(fancybox=False, loc='lower left', handletextpad=0.7, frameon=False)\n",
    "    #sp_obj[1].set_ylim((0.0, 10))\n",
    "\n",
    "    sp_obj[4].plot(this_source_only['Date'], np.arctan(np.tan(this_source_only['polangle'])) *  (360 /  (2 * np.pi)), '.')\n",
    "    sp_obj[4].set_ylabel(\"Pol. Angle [Degree]\")\n",
    "    sp_obj[4].set_ylim((-90, 90))\n",
    "    sp_obj[4].legend(fancybox=False, loc='lower left', handletextpad=0.7, frameon=False)\n",
    "\n",
    "    plot_obj.tight_layout()\n",
    "    plot_obj.savefig(f'../potential/{name_3c}.png', dpi=250)\n",
    "    plt.close('all')"
   ]
  },
  {
   "cell_type": "code",
   "execution_count": 5,
   "metadata": {},
   "outputs": [],
   "source": [
    "#acsc_data_file = '../../data/acsc/3c286.csv'\n",
    "# names = [\n",
    "#     'Band Name',\n",
    "#     'Catalogue Name',\n",
    "#     'Date Observed',\n",
    "#     'RA (J2000) 1',\n",
    "#     'RA (J2000) 2',\n",
    "#     'RA Uncertainty',\n",
    "#     'DEC (J2000) 1',\n",
    "#     'DEC (J2000)2 ',\n",
    "#     'DEC Uncertainty',\n",
    "#     'Flux Density',\n",
    "#     'Flux Density Uncertainty',\n",
    "#     'Frequency,Separation',\n",
    "#     'UV Min',\n",
    "#     'UV Max', \n",
    "#     'Names'\n",
    "# ]\n",
    "# amapola_data = pd.read_csv(acsc_data_file, delimiter=',', comment='#', names=names)\n",
    "# amapola_data.head()"
   ]
  }
 ],
 "metadata": {
  "interpreter": {
   "hash": "223ca5f03c879f202e519a0b3fddd62811229820c7dc8de777256442feb14c6f"
  },
  "kernelspec": {
   "display_name": "Python 3.8.5 ('working')",
   "language": "python",
   "name": "python3"
  },
  "language_info": {
   "codemirror_mode": {
    "name": "ipython",
    "version": 3
   },
   "file_extension": ".py",
   "mimetype": "text/x-python",
   "name": "python",
   "nbconvert_exporter": "python",
   "pygments_lexer": "ipython3",
   "version": "3.8.5"
  },
  "orig_nbformat": 4
 },
 "nbformat": 4,
 "nbformat_minor": 2
}
